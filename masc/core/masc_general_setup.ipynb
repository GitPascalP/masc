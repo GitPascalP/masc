{
 "cells": [
  {
   "cell_type": "markdown",
   "id": "efee6362-77e6-41ae-85fb-29906ff6a2b7",
   "metadata": {},
   "source": [
    "# MASC General Setup"
   ]
  },
  {
   "cell_type": "code",
   "execution_count": 6,
   "id": "ffe02c54-a5bc-4c37-815e-d523ad32a3f2",
   "metadata": {},
   "outputs": [
    {
     "name": "stdout",
     "output_type": "stream",
     "text": [
      "The autoreload extension is already loaded. To reload it, use:\n",
      "  %reload_ext autoreload\n"
     ]
    }
   ],
   "source": [
    "%load_ext autoreload\n",
    "%autoreload 2\n",
    "\n",
    "\n",
    "import sys\n",
    "import os\n",
    "import pathlib\n",
    "import json\n",
    "import argparse\n",
    "import numpy as np\n",
    "\n",
    "import torch\n",
    "import torch.nn as nn\n",
    "from pprint import pprint\n",
    "import pandas as pd\n",
    "\n",
    "import matplotlib.pyplot as plt\n",
    "import matplotlib \n",
    "matplotlib.rc('xtick', labelsize=15) \n",
    "matplotlib.rc('ytick', labelsize=15) \n",
    "font = {'size'   : 22}\n",
    "matplotlib.rc('font', **font)\n",
    "\n",
    "dir_list = str(pathlib.Path().resolve()).split(\"/\")\n",
    "parent_idx = np.where(np.array(dir_list) == \"masc\")[0][0]\n",
    "parent_path = pathlib.Path().resolve()\n",
    "for idx in range(len(dir_list) - parent_idx - 1):\n",
    "    parent_path = parent_path.parent\n",
    "sys.path.append(str(parent_path) + \"/\")\n",
    "\n",
    "from masc import misc\n",
    "from masc.rl import agents\n",
    "from masc.mpc import controller, models, control_utils\n",
    "from masc.rl.runner import FullRunner\n",
    "from masc.rl.rl_utils import ReplayBuffer, Network, DoubleNetwork\n"
   ]
  },
  {
   "cell_type": "code",
   "execution_count": null,
   "id": "8538c9d0",
   "metadata": {
    "collapsed": false,
    "jupyter": {
     "outputs_hidden": false
    },
    "pycharm": {
     "name": "#%%\n"
    }
   },
   "outputs": [],
   "source": []
  },
  {
   "cell_type": "markdown",
   "id": "353e6b03",
   "metadata": {
    "pycharm": {
     "name": "#%% md\n"
    }
   },
   "source": [
    "## Setup DoubleIntegrator Environment"
   ]
  },
  {
   "cell_type": "code",
   "execution_count": 7,
   "id": "9a039e25",
   "metadata": {
    "collapsed": false,
    "jupyter": {
     "outputs_hidden": false
    },
    "pycharm": {
     "name": "#%%\n"
    }
   },
   "outputs": [
    {
     "name": "stdout",
     "output_type": "stream",
     "text": [
      "{'batch_size': 64,\n",
      " 'delay': 1,\n",
      " 'gamma': 0.99,\n",
      " 'learning_rate': 0.0002,\n",
      " 'lr_decay': 1,\n",
      " 'lr_decay_step': 100,\n",
      " 'mue': 0,\n",
      " 'noise_decay': True,\n",
      " 'noise_decay_rate': 0.9947,\n",
      " 'noise_end': 0.02,\n",
      " 'noise_start': 0.2,\n",
      " 'tau': 0.005,\n",
      " 'warm_up': 20000}\n"
     ]
    }
   ],
   "source": [
    "# parameters\n",
    "path2core = str(misc.path2parent(\"core\", str(pathlib.Path)))\n",
    "\n",
    "config_path = path2core + \"/configs/\"\n",
    "model_path = path2core + \"/agent_models/\"\n",
    "savelog_path = path2core + \"/agent_logs/\"\n",
    "\n",
    "# load config files\n",
    "agent_config_name = \"ddpg_config\"\n",
    "with open(config_path + agent_config_name + \".json\", \"r\") as f:\n",
    "    agent_config = json.loads(f.read())\n",
    "\n",
    "env_config_name = \"environment_config\"\n",
    "with open(config_path + env_config_name + \".json\", \"r\") as f:\n",
    "    env_config = json.loads(f.read())\n",
    "\n",
    "pprint(agent_config)"
   ]
  },
  {
   "cell_type": "code",
   "execution_count": 8,
   "id": "6ab95b71",
   "metadata": {
    "collapsed": false,
    "jupyter": {
     "outputs_hidden": false
    },
    "pycharm": {
     "name": "#%%\n"
    }
   },
   "outputs": [],
   "source": [
    "seed = 506\n",
    "# rnd_state = np.random.RandomState(int(seed))\n"
   ]
  },
  {
   "cell_type": "code",
   "execution_count": 9,
   "id": "c0c6fe48",
   "metadata": {
    "collapsed": false,
    "jupyter": {
     "outputs_hidden": false
    },
    "pycharm": {
     "name": "#%%\n"
    }
   },
   "outputs": [],
   "source": [
    "# state space parameters\n",
    "a = [0, 0, 1]\n",
    "tau = 0.05\n",
    "\n",
    "obs_limits, act_limits = np.array([25, 5]), np.array([1])\n",
    "# define init limits that achieve feasibility from start\n",
    "init_limits = obs_limits * 0.60\n",
    "# state space model of double integrator\n",
    "state_space = control_utils.get_state_space(a, obs_limits, act_limits, tau)\n",
    "A_d, B_d, C_d, D_d, Mx, wx, Mu, wu, Q, R, S = state_space\n",
    "\n",
    "# state, action dimensions\n",
    "n, m = B_d.shape"
   ]
  },
  {
   "cell_type": "code",
   "execution_count": 10,
   "id": "ed1cc6a2",
   "metadata": {
    "collapsed": false,
    "jupyter": {
     "outputs_hidden": false
    },
    "pycharm": {
     "name": "#%%\n"
    }
   },
   "outputs": [],
   "source": [
    "# set up environment\n",
    "double_integrator = models.DoubleIntegrator(\n",
    "    model=(A_d, B_d),\n",
    "    model_type='exact',\n",
    "    obs_limits=obs_limits,\n",
    "    act_limits=act_limits,\n",
    "    init_limits=init_limits,\n",
    "    ref_init=np.zeros(n),\n",
    "    gamma=agent_config['gamma'],\n",
    "    N=n, M=m,\n",
    "    seed=int(seed),\n",
    "    tau=tau,\n",
    "    **env_config\n",
    ")"
   ]
  },
  {
   "cell_type": "code",
   "execution_count": null,
   "id": "11322927",
   "metadata": {
    "collapsed": false,
    "jupyter": {
     "outputs_hidden": false
    },
    "pycharm": {
     "name": "#%%\n"
    }
   },
   "outputs": [],
   "source": []
  },
  {
   "cell_type": "markdown",
   "id": "7b0735a0",
   "metadata": {
    "pycharm": {
     "name": "#%% md\n"
    }
   },
   "source": [
    "## Configure Function Approximator Networks and Setup DDPG Agent"
   ]
  },
  {
   "cell_type": "code",
   "execution_count": 11,
   "id": "de890dbb",
   "metadata": {
    "collapsed": false,
    "jupyter": {
     "outputs_hidden": false
    },
    "pycharm": {
     "name": "#%%\n"
    }
   },
   "outputs": [
    {
     "name": "stdout",
     "output_type": "stream",
     "text": [
      "Using cuda device\n"
     ]
    }
   ],
   "source": [
    "buffer_size = int(agent_config['warm_up'])\n",
    "actor_layer = [16, 32, 16]\n",
    "critic_layer = [16, 32, 16]\n",
    "\n",
    "device = \"cuda\" if torch.cuda.is_available() else \"cpu\"\n",
    "print(\"Using {} device\".format(device))\n"
   ]
  },
  {
   "cell_type": "code",
   "execution_count": 12,
   "id": "4929738f",
   "metadata": {
    "collapsed": false,
    "jupyter": {
     "outputs_hidden": false
    },
    "pycharm": {
     "name": "#%%\n"
    }
   },
   "outputs": [],
   "source": [
    "in_dim = double_integrator.observation_space.shape[0]\n",
    "out_dim = double_integrator.action_space.shape[0]\n",
    "\n",
    "# one fead forward network with clipped output\n",
    "actor = Network(\n",
    "    [in_dim] + actor_layer + [out_dim],\n",
    "    activation=nn.LeakyReLU,\n",
    "    output_activation=nn.Identity,\n",
    "    clipping=True,\n",
    "    limit=double_integrator.action_space.high,\n",
    ")\n",
    "\n",
    "# two fead forward networks for two critic output\n",
    "critic = DoubleNetwork(\n",
    "    [in_dim+out_dim] + critic_layer + [1],\n",
    "    activation=nn.LeakyReLU,\n",
    ")"
   ]
  },
  {
   "cell_type": "code",
   "execution_count": 13,
   "id": "0cac9c73",
   "metadata": {
    "collapsed": false,
    "jupyter": {
     "outputs_hidden": false
    },
    "pycharm": {
     "name": "#%%\n"
    }
   },
   "outputs": [],
   "source": [
    "entries = (\"obs\", \"action\", \"next_obs\", \"reward\", \"done\", \"error\", \"step\")\n",
    "buffer = ReplayBuffer(buffer_size, entries)\n",
    "\n",
    "agent = agents.DDPGAgent(\n",
    "    double_integrator,\n",
    "    actor_model=actor,\n",
    "    actor_target_model=actor,\n",
    "    critic_model=critic,\n",
    "    critic_target_model=critic,\n",
    "    **agent_config\n",
    ")"
   ]
  },
  {
   "cell_type": "code",
   "execution_count": null,
   "id": "96a1822e",
   "metadata": {
    "collapsed": false,
    "jupyter": {
     "outputs_hidden": false
    },
    "pycharm": {
     "name": "#%%\n"
    }
   },
   "outputs": [],
   "source": []
  },
  {
   "cell_type": "markdown",
   "id": "94e00d5d",
   "metadata": {
    "pycharm": {
     "name": "#%% md\n"
    }
   },
   "source": [
    "## Initialize Safeguard\n",
    "\n",
    "The safeguard can be initialized with given constraints from prior model-knowledge. For this the feasible-set can be calulated with the next cell. If no model is avaiable the safeeguard is initialized with ```feasible_set = None``` and determines the set from estimated modelparamters."
   ]
  },
  {
   "cell_type": "code",
   "execution_count": 14,
   "id": "315abb1d",
   "metadata": {
    "collapsed": false,
    "jupyter": {
     "outputs_hidden": false
    },
    "pycharm": {
     "name": "#%%\n"
    }
   },
   "outputs": [],
   "source": [
    "# convergence threshold for feasible set calculation\n",
    "feasible_convergence_slack = 0.1\n",
    "\n",
    "# calculate feasible set from prior knowledge\n",
    "# feasible_set = control_utils.calc_feasible_set(\n",
    "#    A_d, B_d, Q, R, Mx, wx, Mu, wu,\n",
    "#    project_dim=[1, 2, 3],\n",
    "#    N_max=200,\n",
    "#    N_start=20,\n",
    "#    discount=0.8,\n",
    "#    tol=feasible_convergence_slack,\n",
    "#    notebook_bar=True,\n",
    "#)\n",
    "\n",
    "feasible_set = None\n"
   ]
  },
  {
   "cell_type": "code",
   "execution_count": 15,
   "id": "996c0e46",
   "metadata": {
    "collapsed": false,
    "jupyter": {
     "outputs_hidden": false
    },
    "pycharm": {
     "name": "#%%\n"
    }
   },
   "outputs": [],
   "source": [
    "safeguard = controller.Safeguard(\n",
    "    constraints=feasible_set,\n",
    ")\n",
    "\n",
    "# safeguard = None\n"
   ]
  },
  {
   "cell_type": "code",
   "execution_count": null,
   "id": "41bc1bd9",
   "metadata": {
    "collapsed": false,
    "jupyter": {
     "outputs_hidden": false
    },
    "pycharm": {
     "name": "#%%\n"
    }
   },
   "outputs": [],
   "source": []
  },
  {
   "cell_type": "markdown",
   "id": "3cba9ba9",
   "metadata": {
    "pycharm": {
     "name": "#%% md\n"
    }
   },
   "source": [
    "## Initialize Model-Identification Algorithm\n"
   ]
  },
  {
   "cell_type": "code",
   "execution_count": 16,
   "id": "be60a9c5",
   "metadata": {
    "collapsed": false,
    "jupyter": {
     "outputs_hidden": false
    },
    "pycharm": {
     "name": "#%%\n"
    }
   },
   "outputs": [],
   "source": [
    "# rls forgetting factor\n",
    "lmbda = 0.9\n",
    "\n",
    "# only setup model identification if no prior feasible set is available\n",
    "if feasible_set is None:\n",
    "    model_id = models.RLSFit(n, m, mu=lmbda)\n",
    "else:\n",
    "    model_id = None\n"
   ]
  },
  {
   "cell_type": "code",
   "execution_count": null,
   "id": "0d84350a",
   "metadata": {
    "collapsed": false,
    "jupyter": {
     "outputs_hidden": false
    },
    "pycharm": {
     "name": "#%%\n"
    }
   },
   "outputs": [],
   "source": []
  },
  {
   "cell_type": "markdown",
   "id": "3e986b9c-5548-44f3-9048-80e4dc813c41",
   "metadata": {},
   "source": [
    "## Setup Control Loop Runner\n",
    "\n",
    "The Runner is used to handle the agent-environment interaction and control loop. If the safeguard and model_id module are defined as ```None``` then the Runner handles a standard RL controller defined by ```agent```"
   ]
  },
  {
   "cell_type": "code",
   "execution_count": 17,
   "id": "3455eea5-b838-4a39-af2d-fec961c29cee",
   "metadata": {},
   "outputs": [],
   "source": [
    "safeguard_penalty = -0.0025"
   ]
  },
  {
   "cell_type": "code",
   "execution_count": 18,
   "id": "3848e802",
   "metadata": {
    "collapsed": false,
    "jupyter": {
     "outputs_hidden": false
    },
    "pycharm": {
     "name": "#%%\n"
    }
   },
   "outputs": [],
   "source": [
    "# setup keys for logger\n",
    "log_keys = [\n",
    "    'cumulated-reward',\n",
    "    'episode-length',\n",
    "    'states',\n",
    "    'actions',\n",
    "    'safeguard',\n",
    "    'reward'\n",
    "]"
   ]
  },
  {
   "cell_type": "code",
   "execution_count": 21,
   "id": "3ee40d79",
   "metadata": {
    "collapsed": false,
    "jupyter": {
     "outputs_hidden": false
    },
    "pycharm": {
     "name": "#%%\n"
    }
   },
   "outputs": [],
   "source": [
    "observer_episodes = 100\n",
    "train_episodes = 550\n",
    "test_episodes = 20\n",
    "episode_len = 1000\n",
    "\n",
    "full_runner = FullRunner(\n",
    "    double_integrator,\n",
    "    agent,\n",
    "    buffer,\n",
    "    safeguard=safeguard,\n",
    "    state_space_mats=(Mx, wx, Mu, wu, Q, R),\n",
    "    model_delta=0.001,\n",
    "    guard_update_steps=2500,\n",
    "    feasible_set_Nmax=200,\n",
    "    feasible_set_slack=feasible_convergence_slack,\n",
    "    safeguard_penalty=safeguard_penalty,\n",
    "    model_fit=model_id,\n",
    "    log_keys=log_keys,\n",
    "    notebook_mode=True,\n",
    "    seed=seed\n",
    ")"
   ]
  },
  {
   "cell_type": "markdown",
   "id": "ba6b8b7a-080d-48e1-9e93-5d220bce4727",
   "metadata": {},
   "source": [
    "Control interactions are split up in ```observe```, ```train``` and ```test```. The ```observe``` method can be used to only collect observation to fill the replay buffer without training the agent."
   ]
  },
  {
   "cell_type": "code",
   "execution_count": 22,
   "id": "e9cbc29f",
   "metadata": {
    "collapsed": false,
    "jupyter": {
     "outputs_hidden": false
    },
    "pycharm": {
     "name": "#%%\n"
    }
   },
   "outputs": [
    {
     "data": {
      "application/vnd.jupyter.widget-view+json": {
       "model_id": "80d9db0b6f6f4edabecf0e4cea523424",
       "version_major": 2,
       "version_minor": 0
      },
      "text/plain": [
       "  0%|          | 0/5 [00:00<?, ?it/s]"
      ]
     },
     "metadata": {},
     "output_type": "display_data"
    },
    {
     "data": {
      "application/vnd.jupyter.widget-view+json": {
       "model_id": "9fb9cd5be7e04861941a3396b1132a4f",
       "version_major": 2,
       "version_minor": 0
      },
      "text/plain": [
       "  0%|          | 0/200 [00:00<?, ?it/s]"
      ]
     },
     "metadata": {},
     "output_type": "display_data"
    },
    {
     "name": "stderr",
     "output_type": "stream",
     "text": [
      "\n",
      " 18%|██▍          | 37.0/200 [00:18<00:04, 35.24it/s, volume difference: 40.137]\u001b[A"
     ]
    },
    {
     "name": "stdout",
     "output_type": "stream",
     "text": [
      "\n",
      "Feasible-Set found\n",
      "\n"
     ]
    },
    {
     "data": {
      "application/vnd.jupyter.widget-view+json": {
       "model_id": "c2985a19ea424ed5882824f7b4e25351",
       "version_major": 2,
       "version_minor": 0
      },
      "text/plain": [
       "  0%|          | 0/20 [00:00<?, ?it/s]"
      ]
     },
     "metadata": {},
     "output_type": "display_data"
    }
   ],
   "source": [
    "# run rl training\n",
    "# full_runner.observe(episodes=observer_episodes, max_len=episode_len, max_total_steps=10000)\n",
    "full_runner.train(episodes=train_episodes, max_len=episode_len)\n",
    "full_runner.test(episodes=test_episodes, max_len=episode_len, visualize=False)"
   ]
  },
  {
   "cell_type": "code",
   "execution_count": 23,
   "id": "68eec8cb-71aa-4afb-9d9a-de3a5e9b9c63",
   "metadata": {},
   "outputs": [],
   "source": [
    "# obs_log = None\n",
    "train_log = full_runner.train_log.get_log(dtype='dict')\n",
    "test_log = full_runner.test_log.get_log(dtype='dict')"
   ]
  },
  {
   "cell_type": "code",
   "execution_count": 24,
   "id": "8d51dc39-6828-426d-bc7c-39f593f6cf94",
   "metadata": {},
   "outputs": [
    {
     "data": {
      "text/html": [
       "<div>\n",
       "<style scoped>\n",
       "    .dataframe tbody tr th:only-of-type {\n",
       "        vertical-align: middle;\n",
       "    }\n",
       "\n",
       "    .dataframe tbody tr th {\n",
       "        vertical-align: top;\n",
       "    }\n",
       "\n",
       "    .dataframe thead th {\n",
       "        text-align: right;\n",
       "    }\n",
       "</style>\n",
       "<table border=\"1\" class=\"dataframe\">\n",
       "  <thead>\n",
       "    <tr style=\"text-align: right;\">\n",
       "      <th></th>\n",
       "      <th>cumulated-reward</th>\n",
       "      <th>episode-length</th>\n",
       "      <th>states</th>\n",
       "      <th>actions</th>\n",
       "      <th>safeguard</th>\n",
       "      <th>reward</th>\n",
       "    </tr>\n",
       "  </thead>\n",
       "  <tbody>\n",
       "    <tr>\n",
       "      <th>0</th>\n",
       "      <td>-0.877926</td>\n",
       "      <td>1000</td>\n",
       "      <td>[[14.800285474661617, -1.687977367501508], [14...</td>\n",
       "      <td>[[-1.0], [-1.0], [-1.0], [-1.0], [-1.0], [-1.0...</td>\n",
       "      <td>257</td>\n",
       "      <td>[-0.0025, -0.0025, -0.0025, -0.0025, -0.0025, ...</td>\n",
       "    </tr>\n",
       "    <tr>\n",
       "      <th>1</th>\n",
       "      <td>-0.626895</td>\n",
       "      <td>1000</td>\n",
       "      <td>[[1.2884040220964401, -0.2417878826338713], [1...</td>\n",
       "      <td>[[-0.38833803], [-0.114099674], [-0.107115895]...</td>\n",
       "      <td>165</td>\n",
       "      <td>[-5.1448709019266705e-05, -5.148076822021867e-...</td>\n",
       "    </tr>\n",
       "    <tr>\n",
       "      <th>2</th>\n",
       "      <td>-0.699926</td>\n",
       "      <td>1000</td>\n",
       "      <td>[[0.7795934821030066, 0.29772384533920304], [0...</td>\n",
       "      <td>[[-0.47974876], [-0.3101299], [-0.09065677], [...</td>\n",
       "      <td>203</td>\n",
       "      <td>[-3.943521848683453e-05, -3.8766433994549e-05,...</td>\n",
       "    </tr>\n",
       "    <tr>\n",
       "      <th>3</th>\n",
       "      <td>-1.815134</td>\n",
       "      <td>1000</td>\n",
       "      <td>[[14.65339910728014, -0.7911836452597107], [14...</td>\n",
       "      <td>[[-0.34643668], [0.07310215], [-0.027387187], ...</td>\n",
       "      <td>683</td>\n",
       "      <td>[-0.0004436027632823157, -0.000442281082155388...</td>\n",
       "    </tr>\n",
       "    <tr>\n",
       "      <th>4</th>\n",
       "      <td>-1.275360</td>\n",
       "      <td>1000</td>\n",
       "      <td>[[4.90003165510247, 1.780005187180154], [4.989...</td>\n",
       "      <td>[[-0.24238077], [-0.32338274], [-0.36420876], ...</td>\n",
       "      <td>438</td>\n",
       "      <td>[-0.0002508999276374474, -0.000252179166718308...</td>\n",
       "    </tr>\n",
       "  </tbody>\n",
       "</table>\n",
       "</div>"
      ],
      "text/plain": [
       "   cumulated-reward  episode-length  \\\n",
       "0         -0.877926            1000   \n",
       "1         -0.626895            1000   \n",
       "2         -0.699926            1000   \n",
       "3         -1.815134            1000   \n",
       "4         -1.275360            1000   \n",
       "\n",
       "                                              states  \\\n",
       "0  [[14.800285474661617, -1.687977367501508], [14...   \n",
       "1  [[1.2884040220964401, -0.2417878826338713], [1...   \n",
       "2  [[0.7795934821030066, 0.29772384533920304], [0...   \n",
       "3  [[14.65339910728014, -0.7911836452597107], [14...   \n",
       "4  [[4.90003165510247, 1.780005187180154], [4.989...   \n",
       "\n",
       "                                             actions  safeguard  \\\n",
       "0  [[-1.0], [-1.0], [-1.0], [-1.0], [-1.0], [-1.0...        257   \n",
       "1  [[-0.38833803], [-0.114099674], [-0.107115895]...        165   \n",
       "2  [[-0.47974876], [-0.3101299], [-0.09065677], [...        203   \n",
       "3  [[-0.34643668], [0.07310215], [-0.027387187], ...        683   \n",
       "4  [[-0.24238077], [-0.32338274], [-0.36420876], ...        438   \n",
       "\n",
       "                                              reward  \n",
       "0  [-0.0025, -0.0025, -0.0025, -0.0025, -0.0025, ...  \n",
       "1  [-5.1448709019266705e-05, -5.148076822021867e-...  \n",
       "2  [-3.943521848683453e-05, -3.8766433994549e-05,...  \n",
       "3  [-0.0004436027632823157, -0.000442281082155388...  \n",
       "4  [-0.0002508999276374474, -0.000252179166718308...  "
      ]
     },
     "execution_count": 24,
     "metadata": {},
     "output_type": "execute_result"
    }
   ],
   "source": [
    "train_df = pd.DataFrame(train_log)\n",
    "test_df = pd.DataFrame(test_log)\n",
    "\n",
    "train_df.head()"
   ]
  },
  {
   "cell_type": "code",
   "execution_count": 25,
   "id": "3f82b670-a93c-488a-8c79-1eca952d7ad7",
   "metadata": {},
   "outputs": [
    {
     "data": {
      "image/png": "[encoded data removed]",
      "text/plain": [
       "<Figure size 1440x720 with 2 Axes>"
      ]
     },
     "metadata": {
      "needs_background": "light"
     },
     "output_type": "display_data"
    }
   ],
   "source": [
    "keys = ['cumulated-reward', 'episode-length']\n",
    "\n",
    "fig, axis = plt.subplots(2, 1, figsize=(20, 10))\n",
    "axis[0].plot(\n",
    "    range(len(train_df)), \n",
    "    np.asarray(train_df[keys[0]]), \n",
    "    linewidth=3\n",
    ")\n",
    "\n",
    "axis[1].plot(\n",
    "    range(len(train_df)), \n",
    "    np.asarray(train_df[keys[1]]), \n",
    "    linewidth=3,\n",
    "    c='orange'\n",
    ")\n",
    "\n",
    "\n",
    "for idx, ax in enumerate(axis):\n",
    "    ax.set_ylabel(keys[idx])\n",
    "    ax.grid(True)\n",
    "    \n",
    "axis[-1].set_xlabel('Number of Episodes')\n",
    "plt.show()"
   ]
  },
  {
   "cell_type": "code",
   "execution_count": null,
   "id": "8b6adb2a-a9e8-4d9c-9463-3248ee9305fe",
   "metadata": {},
   "outputs": [],
   "source": []
  }
 ],
 "metadata": {
  "kernelspec": {
   "display_name": "Python 3 (ipykernel)",
   "language": "python",
   "name": "python3"
  },
  "language_info": {
   "codemirror_mode": {
    "name": "ipython",
    "version": 3
   },
   "file_extension": ".py",
   "mimetype": "text/x-python",
   "name": "python",
   "nbconvert_exporter": "python",
   "pygments_lexer": "ipython3",
   "version": "3.8.12"
  }
 },
 "nbformat": 4,
 "nbformat_minor": 5
}
